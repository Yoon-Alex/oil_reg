{
 "cells": [
  {
   "cell_type": "code",
   "execution_count": 1,
   "metadata": {},
   "outputs": [
    {
     "data": {
      "text/html": [
       "<style>.container { width: 90% !important; }</style>"
      ],
      "text/plain": [
       "<IPython.core.display.HTML object>"
      ]
     },
     "metadata": {},
     "output_type": "display_data"
    }
   ],
   "source": [
    "from IPython.core.display import display, HTML\n",
    "display(HTML(\"<style>.container { width: 90% !important; }</style>\"))"
   ]
  },
  {
   "cell_type": "code",
   "execution_count": 3,
   "metadata": {},
   "outputs": [],
   "source": [
    "# library import \n",
    "import os, sys\n",
    "import jaydebeapi as jdb\n",
    "import pandas as pd\n",
    "import numpy as np\n",
    "import seaborn as sns\n",
    "import datetime, time\n",
    "import joblib"
   ]
  },
  {
   "cell_type": "code",
   "execution_count": 4,
   "metadata": {},
   "outputs": [],
   "source": [
    "from sklearn.ensemble import RandomForestClassifier\n",
    "from sklearn.cluster import KMeans\n",
    "from sklearn.model_selection import train_test_split\n",
    "from sklearn.metrics import accuracy_score, confusion_matrix\n",
    "from sklearn.metrics import f1_score, roc_auc_score, recall_score, precision_score\n",
    "\n",
    "import warnings\n",
    "warnings.filterwarnings('ignore')"
   ]
  },
  {
   "cell_type": "code",
   "execution_count": 7,
   "metadata": {},
   "outputs": [
    {
     "data": {
      "text/plain": [
       "(2911060, 16)"
      ]
     },
     "execution_count": 7,
     "metadata": {},
     "output_type": "execute_result"
    }
   ],
   "source": [
    "# 가맹점 별 운영정보 데이터\n",
    "oil_reg_type_anl_ds = pd.read_csv(r\".\\b_da_oil_reg_type_anl_ds.csv\")\n",
    "oil_reg_type_anl_ds.drop([\"레코드 수\"], axis= 1, inplace = True)\n",
    "\n",
    "oil_reg_type_anl_ds.shape"
   ]
  },
  {
   "cell_type": "code",
   "execution_count": 8,
   "metadata": {},
   "outputs": [],
   "source": [
    "oil_reg_type_anl_ds = oil_reg_type_anl_ds[['reg_no', 'app_amt', 'app_cnt', 'all_day', 'member_no', 'weekday', 'weekend',\n",
    "'avg_app_amt','avg_oil_amt', 'avg_oil_prc', 'commute', 'gungu_avg_prc',\n",
    "'max_reg_use_cnt', 'oil_amt', 'oil_prc_diff', 'use_reg_cnt']]"
   ]
  },
  {
   "cell_type": "code",
   "execution_count": 9,
   "metadata": {},
   "outputs": [],
   "source": [
    "oil_cust_dat = oil_reg_type_anl_ds.drop([\"app_amt\", \"oil_amt\", \"gungu_avg_prc\"], axis = 1)"
   ]
  },
  {
   "cell_type": "markdown",
   "metadata": {},
   "source": [
    "## base table \n",
    "##### 6개월간 가맹점에 6번 이상 반복해서 방문, 평균 8L 이상 주유, 평균 주유량 80L 이상 이상치로 판단 제거 \n",
    "* 방문 기준: 카드번호"
   ]
  },
  {
   "cell_type": "markdown",
   "metadata": {},
   "source": [
    "#### 1) 단골/일반 "
   ]
  },
  {
   "cell_type": "code",
   "execution_count": 10,
   "metadata": {},
   "outputs": [],
   "source": [
    "ym = datetime.datetime.now().strftime(\"%Y%m\")\n",
    "\n",
    "dangol_cust = oil_cust_dat.query(\"app_cnt >=6 & avg_oil_amt >= 8 & avg_oil_amt <= 80\").loc[:,[\"member_no\", \"use_reg_cnt\", \"app_cnt\" ,\"max_reg_use_cnt\"]]\n",
    "\n",
    "dangol_cust['max_reg_use_rto'] = dangol_cust['max_reg_use_cnt'] / dangol_cust['app_cnt']\n",
    "dangol_cust = dangol_cust.drop([\"member_no\", \"app_cnt\"], axis = 1 )\n",
    "\n",
    "from sklearn.preprocessing import MinMaxScaler\n",
    "scaler = MinMaxScaler()\n",
    "\n",
    "dangol_cust_md = pd.DataFrame(scaler.fit_transform(dangol_cust), columns = dangol_cust.columns)\n",
    "kmeans = KMeans(n_clusters=2)\n",
    "\n",
    "kmeans.fit(dangol_cust_md.values)\n",
    "y_kmeans = kmeans.predict(dangol_cust_md.values)\n",
    "\n",
    "dangol_cust_md['cluster'] = y_kmeans\n",
    "dangol_cust['cluster'] = y_kmeans\n",
    "\n",
    "md_dangol_cust = dangol_cust.copy()\n",
    "\n",
    "y = md_dangol_cust['cluster'].values\n",
    "X = md_dangol_cust.drop('cluster', axis = 1).values\n",
    "\n",
    "X_train, X_test, y_train, y_test = train_test_split(X, y, test_size = 0.3, random_state = 1)\n",
    "\n",
    "# Random Forest Model\n",
    "rf = RandomForestClassifier(n_estimators= 100)\n",
    "rf.fit(X_train, y_train)\n",
    "y_prob = rf.predict_proba(X_test)\n",
    "y_pred = (y_prob[:,1] > 0.9).astype(\"int\")\n",
    "\n",
    "from sklearn.metrics import confusion_matrix\n",
    "cm = confusion_matrix(y_test, y_pred)\n",
    "cm_matrix = pd.DataFrame(data=cm, columns=['Actual Positive:1', 'Actual Negative:0'], \n",
    "                                 index=['Predict Positive:1', 'Predict Negative:0'])\n",
    "sns.heatmap(cm_matrix, annot=True, fmt='d', cmap='YlGnBu')"
   ]
  },
  {
   "cell_type": "code",
   "execution_count": null,
   "metadata": {},
   "outputs": [],
   "source": [
    "joblib.dump(rf, f'regular_rf_{ym}.pkl')"
   ]
  },
  {
   "cell_type": "markdown",
   "metadata": {},
   "source": [
    "#### 2) 출퇴근/종일 "
   ]
  },
  {
   "cell_type": "code",
   "execution_count": null,
   "metadata": {},
   "outputs": [],
   "source": [
    "com_all_dat = oil_cust_dat.query(\"app_cnt >=6 & avg_oil_amt >= 8 & avg_oil_amt <= 80\").loc[:,[\"commute\", \"all_day\"]]\n",
    "com_all_dat['commute_rto'] = com_all_dat['commute'] / com_all_dat['all_day']\n",
    "\n",
    "com_all_dat_md = pd.DataFrame(scaler.fit_transform(com_all_dat), columns = com_all_dat.columns)\n",
    "km_com_all = KMeans(n_clusters=2)\n",
    "\n",
    "km_com_all.fit(com_all_dat_md.values)\n",
    "y_kmeans = km_com_all.predict(com_all_dat_md.values)\n",
    "\n",
    "com_all_dat_md['cluster'] = y_kmeans\n",
    "com_all_dat['cluster'] = y_kmeans\n",
    "\n",
    "y = com_all_dat['cluster'].values\n",
    "X = com_all_dat.drop('cluster', axis = 1).values\n",
    "\n",
    "X_train, X_test, y_train, y_test = train_test_split(X, y, test_size = 0.3, random_state = 1)\n",
    "\n",
    "# Random Forest Model\n",
    "rf = RandomForestClassifier(n_estimators= 100)\n",
    "rf.fit(X_train, y_train)\n",
    "y_prob = rf.predict_proba(X_test)\n",
    "y_pred = (y_prob[:,1] > 0.9).astype(\"int\")\n",
    "\n",
    "cm = confusion_matrix(y_test, y_pred)\n",
    "cm_matrix = pd.DataFrame(data=cm, columns=['Actual Positive:1', 'Actual Negative:0'], \n",
    "                                 index=['Predict Positive:1', 'Predict Negative:0'])\n",
    "sns.heatmap(cm_matrix, annot=True, fmt='d', cmap='YlGnBu')\n",
    "\n",
    "joblib.dump(rf, f'commute_all_rf_{ym}.pkl')"
   ]
  },
  {
   "cell_type": "markdown",
   "metadata": {},
   "source": [
    "#### 3) 고액(가득)/알뜰형(정액, 정량)"
   ]
  },
  {
   "cell_type": "code",
   "execution_count": null,
   "metadata": {},
   "outputs": [],
   "source": [
    "full_min_dat = oil_cust_dat.query(\"app_cnt >=6 & avg_oil_amt >= 8 & avg_oil_amt <= 80\").loc[:,[\"avg_app_amt\", \"avg_oil_amt\", \"oil_prc_diff\", \"avg_oil_prc\"]]\n",
    "\n",
    "full_min_dat_md = pd.DataFrame(scaler.fit_transform(full_min_dat), columns = full_min_dat.columns)\n",
    "km_full_min = KMeans(n_clusters=2)\n",
    "\n",
    "km_full_min.fit(full_min_dat_md.values)\n",
    "y_kmeans = km_full_min.predict(full_min_dat_md.values)\n",
    "\n",
    "full_min_dat_md['cluster'] = y_kmeans\n",
    "full_min_dat['cluster'] = y_kmeans\n",
    "\n",
    "y = full_min_dat['cluster'].values\n",
    "X = full_min_dat.drop('cluster', axis = 1).values\n",
    "\n",
    "X_train, X_test, y_train, y_test = train_test_split(X, y, test_size = 0.3, random_state = 1)\n",
    "\n",
    "# Random Forest Model\n",
    "rf = RandomForestClassifier(n_estimators= 100)\n",
    "rf.fit(X_train, y_train)\n",
    "y_prob = rf.predict_proba(X_test)\n",
    "y_pred = (y_prob[:,1] > 0.9).astype(\"int\")\n",
    "\n",
    "cm = confusion_matrix(y_test, y_pred)\n",
    "cm_matrix = pd.DataFrame(data=cm, columns=['Actual Positive:1', 'Actual Negative:0'], \n",
    "                                 index=['Predict Positive:1', 'Predict Negative:0'])\n",
    "sns.heatmap(cm_matrix, annot=True, fmt='d', cmap='YlGnBu')\n",
    "\n",
    "joblib.dump(rf, f'full_min_rf_{ym}.pkl')"
   ]
  },
  {
   "cell_type": "markdown",
   "metadata": {},
   "source": [
    "#### 4) 주중/ 주말형"
   ]
  },
  {
   "cell_type": "code",
   "execution_count": null,
   "metadata": {},
   "outputs": [],
   "source": [
    "holy_dat = oil_cust_dat.query(\"app_cnt >=6 & avg_oil_amt >= 8 & avg_oil_amt <= 80\").loc[:,[\"weekday\", \"weekend\"]]\n",
    "holy_dat['holy_rto'] = holy_dat['weekend'] / (holy_dat['weekend'] + holy_dat['weekday'])\n",
    "\n",
    "holy_dat_md = pd.DataFrame(scaler.fit_transform(holy_dat), columns = holy_dat.columns)\n",
    "km_holy = KMeans(n_clusters=2)\n",
    "\n",
    "km_holy.fit(holy_dat_md.values)\n",
    "y_kmeans = km_holy.predict(holy_dat_md.values)\n",
    "\n",
    "holy_dat_md['cluster'] = y_kmeans\n",
    "holy_dat['cluster'] = y_kmeans\n",
    "\n",
    "y = holy_dat['cluster'].values\n",
    "X = holy_dat.drop('cluster', axis = 1).values\n",
    "\n",
    "X_train, X_test, y_train, y_test = train_test_split(X, y, test_size = 0.3, random_state = 1)\n",
    "\n",
    "# Random Forest Model\n",
    "rf = RandomForestClassifier(n_estimators= 100)\n",
    "rf.fit(X_train, y_train)\n",
    "y_prob = rf.predict_proba(X_test)\n",
    "y_pred = (y_prob[:,1] > 0.9).astype(\"int\")\n",
    "\n",
    "cm = confusion_matrix(y_test, y_pred)\n",
    "cm_matrix = pd.DataFrame(data=cm, columns=['Actual Positive:1', 'Actual Negative:0'], \n",
    "                                 index=['Predict Positive:1', 'Predict Negative:0'])\n",
    "sns.heatmap(cm_matrix, annot=True, fmt='d', cmap='YlGnBu')\n",
    "\n",
    "joblib.dump(rf, f'holy_rf_{ym}.pkl')"
   ]
  }
 ],
 "metadata": {
  "kernelspec": {
   "display_name": "Python 3",
   "language": "python",
   "name": "python3"
  },
  "language_info": {
   "codemirror_mode": {
    "name": "ipython",
    "version": 3
   },
   "file_extension": ".py",
   "mimetype": "text/x-python",
   "name": "python",
   "nbconvert_exporter": "python",
   "pygments_lexer": "ipython3",
   "version": "3.6.9"
  }
 },
 "nbformat": 4,
 "nbformat_minor": 2
}
