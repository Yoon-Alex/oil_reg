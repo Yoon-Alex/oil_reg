{
 "cells": [
  {
   "cell_type": "code",
   "execution_count": 1,
   "metadata": {},
   "outputs": [
    {
     "data": {
      "text/html": [
       "<style>.container { width: 90% !important; }</style>"
      ],
      "text/plain": [
       "<IPython.core.display.HTML object>"
      ]
     },
     "metadata": {},
     "output_type": "display_data"
    }
   ],
   "source": [
    "from IPython.core.display import display, HTML\n",
    "display(HTML(\"<style>.container { width: 90% !important; }</style>\"))"
   ]
  },
  {
   "cell_type": "code",
   "execution_count": 2,
   "metadata": {},
   "outputs": [],
   "source": [
    "# library import \n",
    "import os, sys\n",
    "import jaydebeapi as jdb\n",
    "import pandas as pd\n",
    "import numpy as np\n",
    "import seaborn as sns\n",
    "import datetime, time\n",
    "import time\n",
    "import joblib"
   ]
  },
  {
   "cell_type": "code",
   "execution_count": 3,
   "metadata": {},
   "outputs": [],
   "source": [
    "from sklearn.ensemble import RandomForestClassifier\n",
    "from sklearn.cluster import KMeans\n",
    "\n",
    "import warnings\n",
    "warnings.filterwarnings('ignore')"
   ]
  },
  {
   "cell_type": "code",
   "execution_count": 4,
   "metadata": {},
   "outputs": [],
   "source": [
    "# get parameters\n",
    "args_mm = '202011'"
   ]
  },
  {
   "cell_type": "code",
   "execution_count": 5,
   "metadata": {},
   "outputs": [],
   "source": [
    "def oil_reg_type_anl(conn): \n",
    "    sql = \"\"\"\n",
    "    SELECT  *\n",
    "      FROM  NEW_BIGDATA.B_DA_OIL_REG_TYPE_ANL_DS\n",
    "    \"\"\"\n",
    "    \n",
    "    df = pd.read_sql(sql, conn)\n",
    "    return df"
   ]
  },
  {
   "cell_type": "code",
   "execution_count": 6,
   "metadata": {},
   "outputs": [],
   "source": [
    "def debit_retl(conn): \n",
    "    sql = \"\"\"\n",
    "    SELECT  DBR_REG_NO \n",
    "            , H_CODE HCODE \n",
    "      FROM  NEW_BIGDATA.DEBIT_RETL\n",
    "    \"\"\"\n",
    "\n",
    "    df = pd.read_sql(sql, conn)\n",
    "    return df"
   ]
  },
  {
   "cell_type": "code",
   "execution_count": 57,
   "metadata": {},
   "outputs": [],
   "source": [
    "# 1. Load Data  \n",
    "# oil_cust_reg_tmp = oil_reg_type_anl(conn)\n",
    "oil_cust_reg_tmp = pd.read_csv(\"./b_da_oil_reg_type_anl_ds.csv\", dtype = {'reg_no':'str'})"
   ]
  },
  {
   "cell_type": "code",
   "execution_count": 147,
   "metadata": {},
   "outputs": [],
   "source": [
    "# debit_retl = debit_retl(conn)\n",
    "debit_retl = pd.read_csv(r\".\\debit_retl.csv\", dtype = {'reg_no':'str', 'h_code':'str'})\n",
    "debit_retl = debit_retl[['reg_no','h_code']]"
   ]
  },
  {
   "cell_type": "code",
   "execution_count": 60,
   "metadata": {},
   "outputs": [],
   "source": [
    "# 2. Data Analysis\n",
    "member_max_use_cnt = oil_cust_reg_tmp.groupby(\"member_no\", as_index = False).app_cnt.sum()\n",
    "member_max_use_cnt.columns = [\"member_no\", \"total_app_cnt\"]"
   ]
  },
  {
   "cell_type": "code",
   "execution_count": 62,
   "metadata": {},
   "outputs": [],
   "source": [
    "# 단골형 / 일반형\n",
    "dangol_cust = oil_cust_reg_tmp.query(\"app_cnt >=6 & avg_oil_amt >= 8 & avg_oil_amt <= 80\").loc[:,[\"reg_no\", \"member_no\", \"use_reg_cnt\", \"app_cnt\" ,\"max_reg_use_cnt\"]]\n",
    "reg_regul_dat = dangol_cust.merge(member_max_use_cnt, how = 'left', on = \"member_no\")\n",
    "\n",
    "reg_dangol_cust_md = reg_regul_dat.copy()\n",
    "reg_dangol_cust_md['max_reg_use_rto'] = \\\n",
    "reg_dangol_cust_md['max_reg_use_cnt'] / reg_dangol_cust_md['total_app_cnt']\n",
    "\n",
    "reg_dangol_cust_md = reg_dangol_cust_md.drop([\"reg_no\", \"member_no\",\"app_cnt\", \"total_app_cnt\"], axis = 1)\n",
    "reg_dangol_cust_md.columns\n",
    "\n",
    "# --------------- 모델 적용 --------------- #\n",
    "model = joblib.load('./model/regular_rf_202011.pkl')\n",
    "\n",
    "y_prob = model.predict_proba(reg_dangol_cust_md.values)\n",
    "y_pred = (y_prob[:,1] >= 0.9).astype(\"int\")\n",
    "\n",
    "dangol_cust['result'] = y_pred"
   ]
  },
  {
   "cell_type": "code",
   "execution_count": 63,
   "metadata": {},
   "outputs": [],
   "source": [
    "# 출퇴근 / 종일\n",
    "com_all_dat = oil_cust_reg_tmp.query(\"app_cnt >=6 & avg_oil_amt >= 8 & avg_oil_amt <= 80\")\n",
    "                              .loc[:,[\"commute\", \"all_day\"]]\n",
    "com_all_dat['commute_rto'] = com_all_dat['commute'] / com_all_dat['all_day']\n",
    "\n",
    "# --------------- 모델 적용 --------------- #\n",
    "model = joblib.load('./model/holy_rf_202011.pkl')\n",
    "\n",
    "y_prob = model.predict_proba(com_all_dat.values)\n",
    "y_pred = (y_prob[:,1] >= 0.9).astype(\"int\")\n",
    "\n",
    "com_all_dat['result'] = y_pred"
   ]
  },
  {
   "cell_type": "code",
   "execution_count": 64,
   "metadata": {},
   "outputs": [],
   "source": [
    "# 고액형 / 알뜰형\n",
    "full_min_dat = oil_cust_reg_tmp.query(\"app_cnt >=6 & avg_oil_amt >= 8 & avg_oil_amt <= 80\").loc[:,[\"avg_app_amt\", \"avg_oil_amt\", \"oil_prc_diff\", \"avg_oil_prc\"]]\n",
    "\n",
    "# --------------- 모델 적용 --------------- #\n",
    "model = joblib.load('./model/full_min_rf_202011.pkl')\n",
    "\n",
    "y_prob = model.predict_proba(full_min_dat.values)\n",
    "y_pred = (y_prob[:,1] >= 0.9).astype(\"int\")\n",
    "\n",
    "full_min_dat['result'] = y_pred"
   ]
  },
  {
   "cell_type": "code",
   "execution_count": 65,
   "metadata": {},
   "outputs": [],
   "source": [
    "# 주중형 / 주말형\n",
    "holy_dat = oil_cust_reg_tmp.query(\"app_cnt >=6 & avg_oil_amt >= 8 & avg_oil_amt <= 80\").loc[:,[\"weekday\", \"weekend\"]]\n",
    "holy_dat['holy_rto'] = holy_dat['weekend'] / (holy_dat['weekend'] + holy_dat['weekday'])\n",
    "\n",
    "# --------------- 모델 적용 --------------- #\n",
    "model = joblib.load('./model/holy_rf_202011.pkl')\n",
    "\n",
    "y_prob = model.predict_proba(holy_dat.values)\n",
    "y_pred = (y_prob[:,1] >= 0.9).astype(\"int\")\n",
    "\n",
    "holy_dat['result'] = y_pred"
   ]
  },
  {
   "cell_type": "code",
   "execution_count": 66,
   "metadata": {},
   "outputs": [],
   "source": [
    "# 고객 성향 => 개별 방문 주유소 매핑"
   ]
  },
  {
   "cell_type": "code",
   "execution_count": 97,
   "metadata": {
    "scrolled": true
   },
   "outputs": [
    {
     "data": {
      "text/html": [
       "<div>\n",
       "<style scoped>\n",
       "    .dataframe tbody tr th:only-of-type {\n",
       "        vertical-align: middle;\n",
       "    }\n",
       "\n",
       "    .dataframe tbody tr th {\n",
       "        vertical-align: top;\n",
       "    }\n",
       "\n",
       "    .dataframe thead th {\n",
       "        text-align: right;\n",
       "    }\n",
       "</style>\n",
       "<table border=\"1\" class=\"dataframe\">\n",
       "  <thead>\n",
       "    <tr style=\"text-align: right;\">\n",
       "      <th>regular_pred</th>\n",
       "      <th>regular_n</th>\n",
       "      <th>regular_y</th>\n",
       "      <th>regular_rto</th>\n",
       "    </tr>\n",
       "    <tr>\n",
       "      <th>reg_no</th>\n",
       "      <th></th>\n",
       "      <th></th>\n",
       "      <th></th>\n",
       "    </tr>\n",
       "  </thead>\n",
       "  <tbody>\n",
       "    <tr>\n",
       "      <th>1010366062</th>\n",
       "      <td>0.0</td>\n",
       "      <td>1.0</td>\n",
       "      <td>1.000000</td>\n",
       "    </tr>\n",
       "    <tr>\n",
       "      <th>1012554724</th>\n",
       "      <td>2011.0</td>\n",
       "      <td>202.0</td>\n",
       "      <td>0.091279</td>\n",
       "    </tr>\n",
       "    <tr>\n",
       "      <th>1013808744</th>\n",
       "      <td>605.0</td>\n",
       "      <td>113.0</td>\n",
       "      <td>0.157382</td>\n",
       "    </tr>\n",
       "    <tr>\n",
       "      <th>1020492065</th>\n",
       "      <td>86.0</td>\n",
       "      <td>60.0</td>\n",
       "      <td>0.410959</td>\n",
       "    </tr>\n",
       "    <tr>\n",
       "      <th>1021392617</th>\n",
       "      <td>48.0</td>\n",
       "      <td>92.0</td>\n",
       "      <td>0.657143</td>\n",
       "    </tr>\n",
       "  </tbody>\n",
       "</table>\n",
       "</div>"
      ],
      "text/plain": [
       "regular_pred  regular_n  regular_y  regular_rto\n",
       "reg_no                                         \n",
       "1010366062          0.0        1.0     1.000000\n",
       "1012554724       2011.0      202.0     0.091279\n",
       "1013808744        605.0      113.0     0.157382\n",
       "1020492065         86.0       60.0     0.410959\n",
       "1021392617         48.0       92.0     0.657143"
      ]
     },
     "execution_count": 97,
     "metadata": {},
     "output_type": "execute_result"
    }
   ],
   "source": [
    "# 단골/일반형 비율 산출\n",
    "dancol_cust_r = \\\n",
    "dangol_cust.groupby(['reg_no', 'result']).member_no.nunique().reset_index()\\\n",
    "           .rename(columns = {\"result\": \"regular_pred\", \"member_no\": \"regular_pred_cnt\"})\\\n",
    "           .pivot(index= 'reg_no', columns= 'regular_pred', values= 'regular_pred_cnt')\\\n",
    "           .fillna(0).rename(columns = {0 : \"regular_n\", 1: \"regular_y\"})\n",
    "\n",
    "dancol_cust_r['regular_rto'] = dancol_cust_r['regular_y']/(dancol_cust_r['regular_n'] + dancol_cust_r['regular_y'])\n",
    "dancol_cust_r.replace([np.inf, -np.inf], 0, inplace = True)\n",
    "dancol_cust_r.head()"
   ]
  },
  {
   "cell_type": "code",
   "execution_count": 104,
   "metadata": {
    "scrolled": true
   },
   "outputs": [
    {
     "data": {
      "text/html": [
       "<div>\n",
       "<style scoped>\n",
       "    .dataframe tbody tr th:only-of-type {\n",
       "        vertical-align: middle;\n",
       "    }\n",
       "\n",
       "    .dataframe tbody tr th {\n",
       "        vertical-align: top;\n",
       "    }\n",
       "\n",
       "    .dataframe thead th {\n",
       "        text-align: right;\n",
       "    }\n",
       "</style>\n",
       "<table border=\"1\" class=\"dataframe\">\n",
       "  <thead>\n",
       "    <tr style=\"text-align: right;\">\n",
       "      <th>com_all_pred</th>\n",
       "      <th>all_day</th>\n",
       "      <th>commute</th>\n",
       "      <th>commute_rto</th>\n",
       "    </tr>\n",
       "    <tr>\n",
       "      <th>reg_no</th>\n",
       "      <th></th>\n",
       "      <th></th>\n",
       "      <th></th>\n",
       "    </tr>\n",
       "  </thead>\n",
       "  <tbody>\n",
       "    <tr>\n",
       "      <th>1010366062</th>\n",
       "      <td>0.0</td>\n",
       "      <td>1.0</td>\n",
       "      <td>1.000000</td>\n",
       "    </tr>\n",
       "    <tr>\n",
       "      <th>1012554724</th>\n",
       "      <td>809.0</td>\n",
       "      <td>1404.0</td>\n",
       "      <td>0.634433</td>\n",
       "    </tr>\n",
       "    <tr>\n",
       "      <th>1013808744</th>\n",
       "      <td>284.0</td>\n",
       "      <td>434.0</td>\n",
       "      <td>0.604457</td>\n",
       "    </tr>\n",
       "    <tr>\n",
       "      <th>1020492065</th>\n",
       "      <td>52.0</td>\n",
       "      <td>94.0</td>\n",
       "      <td>0.643836</td>\n",
       "    </tr>\n",
       "    <tr>\n",
       "      <th>1021392617</th>\n",
       "      <td>56.0</td>\n",
       "      <td>84.0</td>\n",
       "      <td>0.600000</td>\n",
       "    </tr>\n",
       "  </tbody>\n",
       "</table>\n",
       "</div>"
      ],
      "text/plain": [
       "com_all_pred  all_day  commute  commute_rto\n",
       "reg_no                                     \n",
       "1010366062        0.0      1.0     1.000000\n",
       "1012554724      809.0   1404.0     0.634433\n",
       "1013808744      284.0    434.0     0.604457\n",
       "1020492065       52.0     94.0     0.643836\n",
       "1021392617       56.0     84.0     0.600000"
      ]
     },
     "execution_count": 104,
     "metadata": {},
     "output_type": "execute_result"
    }
   ],
   "source": [
    "# 출퇴근형/일상형 비율 산출\n",
    "com_all_dat_r = \\\n",
    "pd.concat([com_all_dat, \n",
    "            oil_cust_reg_tmp.query(\"app_cnt >=6 & avg_oil_amt >= 8 & avg_oil_amt <= 80\")\n",
    "            .loc[:,[\"reg_no\"]]], axis = 1)\\\n",
    "            .groupby(['reg_no', 'result']).commute_rto.count().reset_index()\\\n",
    "            .rename(columns = {\"result\": \"com_all_pred\", \"commute_rto\": \"com_all_pred_cnt\"})\\\n",
    "            .pivot(index= 'reg_no', columns= 'com_all_pred', values= 'com_all_pred_cnt')\\\n",
    "            .fillna(0).rename(columns = {0 : \"all_day\", 1: \"commute\"})\n",
    "\n",
    "com_all_dat_r['commute_rto'] = com_all_dat_r['commute']/(com_all_dat_r['commute'] + com_all_dat_r['all_day'])\n",
    "com_all_dat_r.replace([np.inf, -np.inf], 0, inplace = True)\n",
    "com_all_dat_r.head()"
   ]
  },
  {
   "cell_type": "code",
   "execution_count": 105,
   "metadata": {},
   "outputs": [
    {
     "data": {
      "text/html": [
       "<div>\n",
       "<style scoped>\n",
       "    .dataframe tbody tr th:only-of-type {\n",
       "        vertical-align: middle;\n",
       "    }\n",
       "\n",
       "    .dataframe tbody tr th {\n",
       "        vertical-align: top;\n",
       "    }\n",
       "\n",
       "    .dataframe thead th {\n",
       "        text-align: right;\n",
       "    }\n",
       "</style>\n",
       "<table border=\"1\" class=\"dataframe\">\n",
       "  <thead>\n",
       "    <tr style=\"text-align: right;\">\n",
       "      <th>full_chip_pred</th>\n",
       "      <th>chip</th>\n",
       "      <th>full</th>\n",
       "      <th>full_rto</th>\n",
       "    </tr>\n",
       "    <tr>\n",
       "      <th>reg_no</th>\n",
       "      <th></th>\n",
       "      <th></th>\n",
       "      <th></th>\n",
       "    </tr>\n",
       "  </thead>\n",
       "  <tbody>\n",
       "    <tr>\n",
       "      <th>1010366062</th>\n",
       "      <td>1.0</td>\n",
       "      <td>0.0</td>\n",
       "      <td>0.000000</td>\n",
       "    </tr>\n",
       "    <tr>\n",
       "      <th>1012554724</th>\n",
       "      <td>1062.0</td>\n",
       "      <td>1151.0</td>\n",
       "      <td>0.520108</td>\n",
       "    </tr>\n",
       "    <tr>\n",
       "      <th>1013808744</th>\n",
       "      <td>312.0</td>\n",
       "      <td>406.0</td>\n",
       "      <td>0.565460</td>\n",
       "    </tr>\n",
       "    <tr>\n",
       "      <th>1020492065</th>\n",
       "      <td>61.0</td>\n",
       "      <td>85.0</td>\n",
       "      <td>0.582192</td>\n",
       "    </tr>\n",
       "    <tr>\n",
       "      <th>1021392617</th>\n",
       "      <td>67.0</td>\n",
       "      <td>73.0</td>\n",
       "      <td>0.521429</td>\n",
       "    </tr>\n",
       "  </tbody>\n",
       "</table>\n",
       "</div>"
      ],
      "text/plain": [
       "full_chip_pred    chip    full  full_rto\n",
       "reg_no                                  \n",
       "1010366062         1.0     0.0  0.000000\n",
       "1012554724      1062.0  1151.0  0.520108\n",
       "1013808744       312.0   406.0  0.565460\n",
       "1020492065        61.0    85.0  0.582192\n",
       "1021392617        67.0    73.0  0.521429"
      ]
     },
     "execution_count": 105,
     "metadata": {},
     "output_type": "execute_result"
    }
   ],
   "source": [
    "# 고액/알뜰형 비율 산출\n",
    "full_min_dat_r = \\\n",
    "pd.concat([full_min_dat, \n",
    "            oil_cust_reg_tmp.query(\"app_cnt >=6 & avg_oil_amt >= 8 & avg_oil_amt <= 80\")\n",
    "            .loc[:,[\"reg_no\"]]], axis = 1)\\\n",
    "            .groupby(['reg_no', 'result']).avg_app_amt.count().reset_index()\\\n",
    "            .rename(columns = {\"result\": \"full_chip_pred\", \"avg_app_amt\": \"full_chip_pred_cnt\"})\\\n",
    "            .pivot(index= 'reg_no', columns= 'full_chip_pred', values= 'full_chip_pred_cnt')\\\n",
    "            .fillna(0).rename(columns = {0 : \"chip\", 1: \"full\"})\n",
    "\n",
    "full_min_dat_r['full_rto'] = full_min_dat_r['full']/(full_min_dat_r['full'] + full_min_dat_r['chip'])\n",
    "full_min_dat_r.replace([np.inf, -np.inf], 0, inplace = True)\n",
    "full_min_dat_r.head()"
   ]
  },
  {
   "cell_type": "code",
   "execution_count": 110,
   "metadata": {},
   "outputs": [
    {
     "data": {
      "text/html": [
       "<div>\n",
       "<style scoped>\n",
       "    .dataframe tbody tr th:only-of-type {\n",
       "        vertical-align: middle;\n",
       "    }\n",
       "\n",
       "    .dataframe tbody tr th {\n",
       "        vertical-align: top;\n",
       "    }\n",
       "\n",
       "    .dataframe thead th {\n",
       "        text-align: right;\n",
       "    }\n",
       "</style>\n",
       "<table border=\"1\" class=\"dataframe\">\n",
       "  <thead>\n",
       "    <tr style=\"text-align: right;\">\n",
       "      <th>weekday_end_pred</th>\n",
       "      <th>weekday</th>\n",
       "      <th>weekend</th>\n",
       "      <th>week_end_rto</th>\n",
       "    </tr>\n",
       "    <tr>\n",
       "      <th>reg_no</th>\n",
       "      <th></th>\n",
       "      <th></th>\n",
       "      <th></th>\n",
       "    </tr>\n",
       "  </thead>\n",
       "  <tbody>\n",
       "    <tr>\n",
       "      <th>1010366062</th>\n",
       "      <td>1.0</td>\n",
       "      <td>0.0</td>\n",
       "      <td>0.000000</td>\n",
       "    </tr>\n",
       "    <tr>\n",
       "      <th>1012554724</th>\n",
       "      <td>1514.0</td>\n",
       "      <td>699.0</td>\n",
       "      <td>0.315861</td>\n",
       "    </tr>\n",
       "    <tr>\n",
       "      <th>1013808744</th>\n",
       "      <td>556.0</td>\n",
       "      <td>162.0</td>\n",
       "      <td>0.225627</td>\n",
       "    </tr>\n",
       "    <tr>\n",
       "      <th>1020492065</th>\n",
       "      <td>103.0</td>\n",
       "      <td>43.0</td>\n",
       "      <td>0.294521</td>\n",
       "    </tr>\n",
       "    <tr>\n",
       "      <th>1021392617</th>\n",
       "      <td>79.0</td>\n",
       "      <td>61.0</td>\n",
       "      <td>0.435714</td>\n",
       "    </tr>\n",
       "  </tbody>\n",
       "</table>\n",
       "</div>"
      ],
      "text/plain": [
       "weekday_end_pred  weekday  weekend  week_end_rto\n",
       "reg_no                                          \n",
       "1010366062            1.0      0.0      0.000000\n",
       "1012554724         1514.0    699.0      0.315861\n",
       "1013808744          556.0    162.0      0.225627\n",
       "1020492065          103.0     43.0      0.294521\n",
       "1021392617           79.0     61.0      0.435714"
      ]
     },
     "execution_count": 110,
     "metadata": {},
     "output_type": "execute_result"
    }
   ],
   "source": [
    "# 주중/주말형 비율 산출\n",
    "holy_dat_r = \\\n",
    "pd.concat([holy_dat, \n",
    "            oil_cust_reg_tmp.query(\"app_cnt >=6 & avg_oil_amt >= 8 & avg_oil_amt <= 80\")\n",
    "            .loc[:,[\"reg_no\"]]], axis = 1)\\\n",
    "            .groupby(['reg_no', 'result']).holy_rto.count().reset_index()\\\n",
    "            .rename(columns = {\"result\": \"weekday_end_pred\", \"holy_rto\": \"weekday_end_pred_cnt\"})\\\n",
    "            .pivot(index= 'reg_no', columns= 'weekday_end_pred', values= 'weekday_end_pred_cnt')\\\n",
    "            .fillna(0).rename(columns = {0 : \"weekday\", 1: \"weekend\"})\n",
    "\n",
    "holy_dat_r['week_end_rto'] = holy_dat_r['weekend']/(holy_dat_r['weekend'] + holy_dat_r['weekday'])\n",
    "holy_dat_r.replace([np.inf, -np.inf], 0, inplace = True)\n",
    "holy_dat_r.head()"
   ]
  },
  {
   "cell_type": "code",
   "execution_count": 125,
   "metadata": {},
   "outputs": [],
   "source": [
    "# 각 유형 결합\n",
    "df = dancol_cust_r.join(com_all_dat_r, how = 'inner')\\\n",
    "                  .join(full_min_dat_r, how = 'inner')\\\n",
    "                  .join(holy_dat_r, how = 'inner')"
   ]
  },
  {
   "cell_type": "code",
   "execution_count": 128,
   "metadata": {},
   "outputs": [],
   "source": [
    "df = df[['regular_rto','commute_rto','full_rto','week_end_rto']]"
   ]
  },
  {
   "cell_type": "code",
   "execution_count": 140,
   "metadata": {
    "scrolled": true
   },
   "outputs": [],
   "source": [
    "df['regular_std_rto'] = df.median()[0]\n",
    "df['commute_std_rto'] = df.median()[1]\n",
    "df['full_std_rto'] = df.median()[2]\n",
    "df['weekend_std_rto'] = df.median()[3]"
   ]
  },
  {
   "cell_type": "code",
   "execution_count": 151,
   "metadata": {},
   "outputs": [],
   "source": [
    "debit_retl['gungu_cd'] = debit_retl.h_code.str.slice(0,5)"
   ]
  },
  {
   "cell_type": "code",
   "execution_count": 160,
   "metadata": {},
   "outputs": [],
   "source": [
    "result_df = df.merge(debit_retl[['reg_no', 'gungu_cd']], left_index = True, right_on = 'reg_no')"
   ]
  },
  {
   "cell_type": "code",
   "execution_count": null,
   "metadata": {},
   "outputs": [],
   "source": [
    "oil_cust_reg_tmp.query(\"app_cnt >=6 & avg_oil_amt >= 8 & avg_oil_amt <= 80\")\n",
    "                              .loc[:,[\"commute\", \"all_day\"]]"
   ]
  },
  {
   "cell_type": "code",
   "execution_count": 169,
   "metadata": {},
   "outputs": [],
   "source": [
    "oil_juyuso_sales = \\\n",
    "oil_cust_reg_tmp.groupby(\"reg_no\")\\\n",
    "                .agg({\"app_cnt\":[\"sum\", \"mean\"] ,\"app_amt\":\"sum\",\n",
    "                      \"avg_app_amt\":\"mean\", \"avg_oil_amt\":\"mean\",\n",
    "                      \"avg_oil_prc\":\"mean\", \"oil_prc_diff\":\"mean\"})"
   ]
  },
  {
   "cell_type": "code",
   "execution_count": 170,
   "metadata": {},
   "outputs": [],
   "source": [
    "oil_juyuso_sales.columns = [\"app_cnt\", \"avg_app_cnt\", \"app_amt\", \"avg_app_amt\", \"avg_oil_amt\", \"avg_oil_prc\", \"oil_prc_diff\"]"
   ]
  },
  {
   "cell_type": "code",
   "execution_count": 173,
   "metadata": {},
   "outputs": [
    {
     "data": {
      "text/html": [
       "<div>\n",
       "<style scoped>\n",
       "    .dataframe tbody tr th:only-of-type {\n",
       "        vertical-align: middle;\n",
       "    }\n",
       "\n",
       "    .dataframe tbody tr th {\n",
       "        vertical-align: top;\n",
       "    }\n",
       "\n",
       "    .dataframe thead th {\n",
       "        text-align: right;\n",
       "    }\n",
       "</style>\n",
       "<table border=\"1\" class=\"dataframe\">\n",
       "  <thead>\n",
       "    <tr style=\"text-align: right;\">\n",
       "      <th></th>\n",
       "      <th>app_cnt</th>\n",
       "      <th>avg_app_cnt</th>\n",
       "      <th>app_amt</th>\n",
       "      <th>avg_app_amt</th>\n",
       "      <th>avg_oil_amt</th>\n",
       "      <th>avg_oil_prc</th>\n",
       "      <th>oil_prc_diff</th>\n",
       "    </tr>\n",
       "    <tr>\n",
       "      <th>reg_no</th>\n",
       "      <th></th>\n",
       "      <th></th>\n",
       "      <th></th>\n",
       "      <th></th>\n",
       "      <th></th>\n",
       "      <th></th>\n",
       "      <th></th>\n",
       "    </tr>\n",
       "  </thead>\n",
       "  <tbody>\n",
       "    <tr>\n",
       "      <th>1010366062</th>\n",
       "      <td>195</td>\n",
       "      <td>2.119565</td>\n",
       "      <td>14492380</td>\n",
       "      <td>62892.728261</td>\n",
       "      <td>51.930109</td>\n",
       "      <td>1239.913043</td>\n",
       "      <td>51.391304</td>\n",
       "    </tr>\n",
       "    <tr>\n",
       "      <th>1012554724</th>\n",
       "      <td>31875</td>\n",
       "      <td>10.106214</td>\n",
       "      <td>1852203085</td>\n",
       "      <td>57130.194039</td>\n",
       "      <td>49.280704</td>\n",
       "      <td>1182.239696</td>\n",
       "      <td>-20.134115</td>\n",
       "    </tr>\n",
       "    <tr>\n",
       "      <th>1013808744</th>\n",
       "      <td>12423</td>\n",
       "      <td>7.014681</td>\n",
       "      <td>990944529</td>\n",
       "      <td>64220.057030</td>\n",
       "      <td>55.452400</td>\n",
       "      <td>1196.744212</td>\n",
       "      <td>-9.385658</td>\n",
       "    </tr>\n",
       "    <tr>\n",
       "      <th>1020492065</th>\n",
       "      <td>3521</td>\n",
       "      <td>3.163522</td>\n",
       "      <td>281438817</td>\n",
       "      <td>63252.656783</td>\n",
       "      <td>54.479066</td>\n",
       "      <td>1187.737646</td>\n",
       "      <td>-0.508535</td>\n",
       "    </tr>\n",
       "    <tr>\n",
       "      <th>1021392617</th>\n",
       "      <td>7001</td>\n",
       "      <td>2.434284</td>\n",
       "      <td>399015209</td>\n",
       "      <td>52385.185327</td>\n",
       "      <td>44.772573</td>\n",
       "      <td>1186.281989</td>\n",
       "      <td>-65.666551</td>\n",
       "    </tr>\n",
       "  </tbody>\n",
       "</table>\n",
       "</div>"
      ],
      "text/plain": [
       "            app_cnt  avg_app_cnt     app_amt   avg_app_amt  avg_oil_amt  \\\n",
       "reg_no                                                                    \n",
       "1010366062      195     2.119565    14492380  62892.728261    51.930109   \n",
       "1012554724    31875    10.106214  1852203085  57130.194039    49.280704   \n",
       "1013808744    12423     7.014681   990944529  64220.057030    55.452400   \n",
       "1020492065     3521     3.163522   281438817  63252.656783    54.479066   \n",
       "1021392617     7001     2.434284   399015209  52385.185327    44.772573   \n",
       "\n",
       "            avg_oil_prc  oil_prc_diff  \n",
       "reg_no                                 \n",
       "1010366062  1239.913043     51.391304  \n",
       "1012554724  1182.239696    -20.134115  \n",
       "1013808744  1196.744212     -9.385658  \n",
       "1020492065  1187.737646     -0.508535  \n",
       "1021392617  1186.281989    -65.666551  "
      ]
     },
     "execution_count": 173,
     "metadata": {},
     "output_type": "execute_result"
    }
   ],
   "source": [
    "oil_juyuso_sales.head()"
   ]
  },
  {
   "cell_type": "code",
   "execution_count": 176,
   "metadata": {},
   "outputs": [],
   "source": [
    "smary_tt_sales = \\\n",
    "result_df.merge(oil_juyuso_sales, how = 'left', left_on = 'reg_no', right_index = True)"
   ]
  },
  {
   "cell_type": "code",
   "execution_count": 178,
   "metadata": {},
   "outputs": [],
   "source": [
    "smary_tt_sales['md_yearmonth'] = '202011' # args_mm"
   ]
  },
  {
   "cell_type": "code",
   "execution_count": 184,
   "metadata": {},
   "outputs": [],
   "source": [
    "smary_tt_sales = \\\n",
    "smary_tt_sales[[\"md_yearmonth\",\"reg_no\", \"gungu_cd\", \n",
    "                \"app_amt\", \"app_cnt\", \"avg_app_amt\", \n",
    "                \"avg_app_cnt\", \"avg_oil_amt\", \"avg_oil_prc\", \n",
    "                \"oil_prc_diff\", \"commute_rto\", \"full_rto\", \n",
    "                \"week_end_rto\", \"regular_rto\",\"commute_std_rto\", \n",
    "                \"full_std_rto\", \"weekend_std_rto\", \"regular_std_rto\"]]"
   ]
  },
  {
   "cell_type": "code",
   "execution_count": null,
   "metadata": {},
   "outputs": [],
   "source": [
    "smary_tt_sales.to_sql('B_DA_OIL_REG_TYPE_ANL', con = conn, if_exists= 'replace', chunksize = 1000, index=False)    "
   ]
  }
 ],
 "metadata": {
  "kernelspec": {
   "display_name": "Python 3",
   "language": "python",
   "name": "python3"
  },
  "language_info": {
   "codemirror_mode": {
    "name": "ipython",
    "version": 3
   },
   "file_extension": ".py",
   "mimetype": "text/x-python",
   "name": "python",
   "nbconvert_exporter": "python",
   "pygments_lexer": "ipython3",
   "version": "3.6.9"
  }
 },
 "nbformat": 4,
 "nbformat_minor": 2
}
